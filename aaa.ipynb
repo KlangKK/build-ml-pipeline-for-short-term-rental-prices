{
 "cells": [
  {
   "cell_type": "code",
   "execution_count": 9,
   "id": "14de1e18",
   "metadata": {},
   "outputs": [],
   "source": [
    "import wandb\n",
    "import matplotlib.pyplot as plt"
   ]
  },
  {
   "cell_type": "code",
   "execution_count": 2,
   "id": "0eafa010",
   "metadata": {},
   "outputs": [
    {
     "name": "stderr",
     "output_type": "stream",
     "text": [
      "Failed to detect the name of this notebook, you can set it manually with the WANDB_NOTEBOOK_NAME environment variable to enable code saving.\n",
      "/home/kk/miniconda3/envs/nyc_airbnb_dev/lib/python3.8/site-packages/IPython/html.py:12: ShimWarning: The `IPython.html` package has been deprecated since IPython 4.0. You should import from `notebook` instead. `IPython.html.widgets` has moved to `ipywidgets`.\n",
      "  warn(\"The `IPython.html` package has been deprecated since IPython 4.0. \"\n",
      "\u001b[34m\u001b[1mwandb\u001b[0m: W&B API key is configured. Use \u001b[1m`wandb login --relogin`\u001b[0m to force relogin\n"
     ]
    },
    {
     "data": {
      "text/html": [
       "Tracking run with wandb version 0.13.7"
      ],
      "text/plain": [
       "<IPython.core.display.HTML object>"
      ]
     },
     "metadata": {},
     "output_type": "display_data"
    },
    {
     "data": {
      "text/html": [
       "Run data is saved locally in <code>/home/kk/kk_sandbox/build-ml-pipeline-for-short-term-rental-prices/wandb/run-20230213_132836-jlaci599</code>"
      ],
      "text/plain": [
       "<IPython.core.display.HTML object>"
      ]
     },
     "metadata": {},
     "output_type": "display_data"
    },
    {
     "data": {
      "text/html": [
       "Syncing run <strong><a href=\"https://wandb.ai/klangkk/aaa/runs/jlaci599\" target=\"_blank\">dulcet-dream-4</a></strong> to <a href=\"https://wandb.ai/klangkk/aaa\" target=\"_blank\">Weights & Biases</a> (<a href=\"https://wandb.me/run\" target=\"_blank\">docs</a>)<br/>"
      ],
      "text/plain": [
       "<IPython.core.display.HTML object>"
      ]
     },
     "metadata": {},
     "output_type": "display_data"
    }
   ],
   "source": [
    "run = wandb.init(project=\"aaa\")"
   ]
  },
  {
   "cell_type": "code",
   "execution_count": 3,
   "id": "fcc8c6c1",
   "metadata": {},
   "outputs": [],
   "source": [
    "run.config.update({\n",
    "    \"a\": 1,\n",
    "    \"b\": 2.3,\n",
    "    \"c\":{\n",
    "        \"c1\":45,\n",
    "        \"c2\":678\n",
    "    }\n",
    "})"
   ]
  },
  {
   "cell_type": "code",
   "execution_count": 4,
   "id": "7d6ceb15",
   "metadata": {},
   "outputs": [],
   "source": [
    "run.summary['bbb']=0.123"
   ]
  },
  {
   "cell_type": "code",
   "execution_count": 6,
   "id": "5cc93c6c",
   "metadata": {},
   "outputs": [],
   "source": [
    "for i in range(10):\n",
    "    run.log({\n",
    "        \"ccc\": 1+2.3*i,\n",
    "        \"ddd\": i\n",
    "    })"
   ]
  },
  {
   "cell_type": "code",
   "execution_count": 13,
   "id": "53771772",
   "metadata": {},
   "outputs": [],
   "source": [
    "run.log({\n",
    "    \"eee\": 11.11,\n",
    "    \"fff\": \"fff\"\n",
    "})"
   ]
  },
  {
   "cell_type": "code",
   "execution_count": 26,
   "id": "be869c86",
   "metadata": {},
   "outputs": [
    {
     "data": {
      "image/png": "[encoded data removed]",
      "text/plain": [
       "<Figure size 432x288 with 1 Axes>"
      ]
     },
     "metadata": {
      "needs_background": "light"
     },
     "output_type": "display_data"
    }
   ],
   "source": [
    "plt.plot([0, 1, 2, 3, 4], [0, 3, 5, 9, 11])\n",
    "plt.xlabel('Months')\n",
    "plt.ylabel('Books Read')\n",
    "run.log({\n",
    "    \"fig\": wandb.Image(plt)\n",
    "})"
   ]
  },
  {
   "cell_type": "code",
   "execution_count": 46,
   "id": "65e875c8",
   "metadata": {},
   "outputs": [],
   "source": [
    "artifact = wandb.Artifact(\n",
    "    name=\"iii\",\n",
    "    type=\"file\",\n",
    "    description=f\"image\",\n",
    ")\n"
   ]
  },
  {
   "cell_type": "code",
   "execution_count": 47,
   "id": "a46b05ce",
   "metadata": {},
   "outputs": [
    {
     "data": {
      "text/plain": [
       "<ManifestEntry digest: paoa93KXB/ztp6+fAIzjIg==>"
      ]
     },
     "execution_count": 47,
     "metadata": {},
     "output_type": "execute_result"
    }
   ],
   "source": [
    "temp_path = \"books_read.png\"\n",
    "\n",
    "artifact.add_file(temp_path)"
   ]
  },
  {
   "cell_type": "code",
   "execution_count": 48,
   "id": "b645edc7",
   "metadata": {},
   "outputs": [
    {
     "data": {
      "text/plain": [
       "<wandb.sdk.wandb_artifacts.Artifact at 0x7fc8e2c4d490>"
      ]
     },
     "execution_count": 48,
     "metadata": {},
     "output_type": "execute_result"
    }
   ],
   "source": [
    "run.log_artifact(artifact)"
   ]
  },
  {
   "cell_type": "code",
   "execution_count": null,
   "id": "a8b757b7",
   "metadata": {},
   "outputs": [],
   "source": []
  }
 ],
 "metadata": {
  "kernelspec": {
   "display_name": "nyc_airbnb_dev",
   "language": "python",
   "name": "python3"
  },
  "language_info": {
   "codemirror_mode": {
    "name": "ipython",
    "version": 3
   },
   "file_extension": ".py",
   "mimetype": "text/x-python",
   "name": "python",
   "nbconvert_exporter": "python",
   "pygments_lexer": "ipython3",
   "version": "3.8.15"
  },
  "vscode": {
   "interpreter": {
    "hash": "d2dd3677664903b0d1121e1f9677be18e904c285adc43afc55e6671e4496000f"
   }
  }
 },
 "nbformat": 4,
 "nbformat_minor": 5
}
